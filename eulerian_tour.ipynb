{
 "cells": [
  {
   "cell_type": "markdown",
   "metadata": {},
   "source": [
    "# Eulerian Tour\n",
    "\n",
    "<b>Goal:</b> Implement a linear-time algorithm that computes an Eulerian tour in an Eulerian multidigraph, and compare its running time to the `networkx` implementation."
   ]
  },
  {
   "cell_type": "markdown",
   "metadata": {},
   "source": [
    "## Notes on a linear-time implementation\n",
    "\n",
    "When implementing an Eulerian tour algorith, we usually do the following two steps:\n",
    "1. Generating closed walks that partition the edges.\n",
    "2. Merging the closed walks to a tour.\n",
    "In both steps, one has to be a bit careful to achieve a real linear-time implementation."
   ]
  },
  {
   "cell_type": "markdown",
   "metadata": {},
   "source": [
    "### Step 1\n",
    "\n",
    "Generating a single closed walk in an Eulerian graph is simple: One can just greedily traverse edges and continue walking from one vertex to another until the starting vertex is reached again. As the input graph is guaranteed to be Eulerian (i.e., indegrees equal outdegrees), we know that as long as we don't return to the start vertex (and thus close the walk), we will always have outgoing edges available to extend the walk.\n",
    "\n",
    "The trickier part of step 1 is that we have to make sure that edges are not used twice. Checking which edge is still available at a vertex from scratch every time (for example by iterating through all outgoing edges and checking which ones are still unused) is dangerous to result in a non-linear algorithm. There are several options to avoid this; one is outlined in the proof of Theorem 3.21, another one can be using lists to store available out-edges at every vertex, and popping edges from the list whenever one is needed. Check out the small list example below. Note that a popping operation takes constant time."
   ]
  },
  {
   "cell_type": "code",
   "execution_count": 186,
   "metadata": {},
   "outputs": [
    {
     "name": "stdout",
     "output_type": "stream",
     "text": [
      "Starting from list [1, 2, 3, 4, 5].\n"
     ]
    }
   ],
   "source": [
    "mylist = [1, 2, 3, 4, 5]\n",
    "\n",
    "print(f'Starting from list {mylist}.')"
   ]
  },
  {
   "cell_type": "code",
   "execution_count": 187,
   "metadata": {},
   "outputs": [
    {
     "name": "stdout",
     "output_type": "stream",
     "text": [
      "We popped element 5 from the list, and the list now is [1, 2, 3, 4].\n"
     ]
    }
   ],
   "source": [
    "element = mylist.pop()\n",
    "\n",
    "print(f'We popped element {element} from the list, and the list now is {mylist}.')"
   ]
  },
  {
   "cell_type": "markdown",
   "metadata": {},
   "source": [
    "### Step 2\n",
    "\n",
    "In the second step above, we have to merge the generated closed walks. For example, assume that the current tour is\n",
    "    \n",
    "    1 > 2 > 3 > 5 > 1\n",
    "    \n",
    "and we want to merge in the closed walk\n",
    "\n",
    "    4 > 6 > 3 > 2 > 4.\n",
    "   \n",
    "One option to do so is to use the common vertex 3, and insert the closed walk (or, more precisely, a rotation of it) from there:\n",
    "\n",
    "    1 > 2 > 3  >  2 > 4 > 6 > 3  >  5 > 1.\n",
    "\n",
    "Again, simply cutting the current tour into two pieces at the correct point and inserting a closed walk in between is dangerous to result in a non-linear implementation: Both finding the right index to cut and creating the new concatenated list might take linear time in each step, and there might be linearly many steps overall.\n",
    "\n",
    "Luckily, there are data structures that support constant time insertion; one such structure is a doubly-linked list. We provide an implementation of doubly-linked lists in what follows. Note that the list has very limited functionality, but it should be enough for our purposes. Feel free to add more functionality in case your later implementation profits from it. Also, check out the small example below!"
   ]
  },
  {
   "cell_type": "code",
   "execution_count": 188,
   "metadata": {},
   "outputs": [],
   "source": [
    "class Node:\n",
    "    def __init__(self, data):\n",
    "        '''Initializes the node.'''\n",
    "        self.data = data\n",
    "        self.next = None\n",
    "        self.prev = None\n",
    "\n",
    "\n",
    "class DoublyLinkedList:\n",
    "    def __init__(self):\n",
    "        '''Initializes the doubly-linked list.'''\n",
    "        self.head = None\n",
    "        self.tail = None\n",
    "        \n",
    "    def append(self, data):\n",
    "        '''Inserts a node with given data at the end of the doubly-linked list.'''\n",
    "        new_node = Node(data)\n",
    "         \n",
    "        if self.head is None:\n",
    "            self.head = self.tail = new_node\n",
    "        else:\n",
    "            self.tail.next = new_node\n",
    "            new_node.prev = self.tail\n",
    "            self.tail = new_node\n",
    "    \n",
    "    def insert(self, node, data):\n",
    "        '''Inserts a node with given data after the given node.'''\n",
    "        if node is None:\n",
    "            self.append(data)\n",
    "            return\n",
    "        \n",
    "        next_node = node.next\n",
    "        \n",
    "        new_node = Node(data)\n",
    "        new_node.prev = node\n",
    "        new_node.next = next_node\n",
    "        \n",
    "        node.next = new_node\n",
    "        \n",
    "        if next_node is None:\n",
    "            self.tail = new_node\n",
    "        else:\n",
    "            next_node.prev = new_node\n",
    "    \n",
    "    def to_list(self):\n",
    "        '''Returns a list representation of the doubly-linked list.'''\n",
    "        l = []\n",
    "        curr = self.head\n",
    "        while curr is not None:\n",
    "            l.append(curr.data)\n",
    "            curr = curr.next\n",
    "        return l"
   ]
  },
  {
   "cell_type": "markdown",
   "metadata": {},
   "source": [
    "As we see from the implementation above, our doubly-linked list is a collection of `nodes`, where each node contains some data and a reference to the previous and the next node in the list. This makes it easy to insert new data somewhere in the middle (given that we know the node after which we want to insert)."
   ]
  },
  {
   "cell_type": "code",
   "execution_count": 189,
   "metadata": {},
   "outputs": [],
   "source": [
    "dll = DoublyLinkedList()"
   ]
  },
  {
   "cell_type": "code",
   "execution_count": 190,
   "metadata": {},
   "outputs": [],
   "source": [
    "dll.append(1)\n",
    "dll.append(3)\n",
    "dll.append(4)"
   ]
  },
  {
   "cell_type": "code",
   "execution_count": 191,
   "metadata": {},
   "outputs": [
    {
     "name": "stdout",
     "output_type": "stream",
     "text": [
      "Currently in our DLL: [1, 3, 4].\n"
     ]
    }
   ],
   "source": [
    "print(f'Currently in our DLL: {dll.to_list()}.')"
   ]
  },
  {
   "cell_type": "code",
   "execution_count": 192,
   "metadata": {},
   "outputs": [
    {
     "name": "stdout",
     "output_type": "stream",
     "text": [
      "Inserted the missing 2, DLL now is [1, 2, 3, 4].\n"
     ]
    }
   ],
   "source": [
    "head = dll.head\n",
    "dll.insert(head, 2)\n",
    "print(f'Inserted the missing 2, DLL now is {dll.to_list()}.')"
   ]
  },
  {
   "cell_type": "code",
   "execution_count": 193,
   "metadata": {},
   "outputs": [
    {
     "name": "stdout",
     "output_type": "stream",
     "text": [
      "Final list is [1, 2, 2.5, 3, 3.5, 4].\n"
     ]
    }
   ],
   "source": [
    "node_2 = head.next\n",
    "dll.insert(node_2, 2.5)\n",
    "\n",
    "node_3 = dll.tail.prev\n",
    "dll.insert(node_3, 3.5)\n",
    "\n",
    "l = dll.to_list()\n",
    "print(f'Final list is {l}.')"
   ]
  },
  {
   "cell_type": "markdown",
   "metadata": {},
   "source": [
    "### Final note\n",
    "\n",
    "Note that it is not strictly necessary to separate steps 1 and 2 above. If, for example, we always generate a new closed walk that intersects the current tour, we can also right away insert it into the tour. Even more generally, the edges of a closed walk can also be inserted into a tour already during creation of the tour.\n",
    "\n",
    "---"
   ]
  },
  {
   "cell_type": "markdown",
   "metadata": {},
   "source": [
    "## Implementation\n",
    "\n",
    "The interface for your implementation of an Eulerian tour algorithm is given below."
   ]
  },
  {
   "cell_type": "code",
   "execution_count": 194,
   "metadata": {},
   "outputs": [],
   "source": [
    "import networkx as nx\n",
    "\n",
    "import random"
   ]
  },
  {
   "cell_type": "code",
   "execution_count": 224,
   "metadata": {},
   "outputs": [],
   "source": [
    "def one_iter(unusedOutgoingEdges, path, pathPos, currentNode):\n",
    "    travelEdge = unusedOutgoingEdges[currentNode].pop()\n",
    "    if (len(unusedOutgoingEdges[currentNode]) == 0):\n",
    "        del unusedOutgoingEdges[currentNode]\n",
    "    path.insert(pathPos, travelEdge)\n",
    "    return travelEdge[1]\n",
    "\n",
    "def eulerian_tour(G):\n",
    "    '''Computes an Eulerian tour.\n",
    "    \n",
    "    Args:\n",
    "        G: An Eulerian netwrokx multidigraph.\n",
    "        \n",
    "    Returns:\n",
    "        A list of arcs in the format (u, v, k) in an Eulerian tour in G.\n",
    "    '''\n",
    "\n",
    "\n",
    "    # construct outgoing edge lists\n",
    "    unusedOutgoingEdges = {n: [] for n in G.nodes}\n",
    "    for e in G.edges:\n",
    "        unusedOutgoingEdges[e[0]].append(e)\n",
    "\n",
    "    path = DoublyLinkedList()\n",
    "\n",
    "    startingNode = next(iter(unusedOutgoingEdges))\n",
    "    currentNode = one_iter(unusedOutgoingEdges, path, None, startingNode)\n",
    "    currentPathNode = path.head\n",
    "    while(len(unusedOutgoingEdges) > 0):\n",
    "        while currentNode != startingNode:\n",
    "            currentNode = one_iter(unusedOutgoingEdges, path, currentPathNode, currentNode)\n",
    "            currentPathNode = currentPathNode.next\n",
    "        if len(unusedOutgoingEdges) > 0:\n",
    "            n = path.head.next # cannot use head since we cannot insert a new head..\n",
    "            specialCase = False\n",
    "            if n is None :\n",
    "                specialCase = True\n",
    "                n = path.head\n",
    "            while True:\n",
    "                if n.data[0] in unusedOutgoingEdges:\n",
    "                    startingNode = n.data[0]\n",
    "                    currentPathNode = n.prev if not specialCase else n\n",
    "                    currentNode = one_iter(unusedOutgoingEdges, path, currentPathNode, startingNode)\n",
    "                    currentPathNode = currentPathNode.next\n",
    "                    break\n",
    "                n = n.next\n",
    "\n",
    "    return path.to_list()"
   ]
  },
  {
   "cell_type": "markdown",
   "metadata": {},
   "source": [
    "---\n",
    "\n",
    "## Testing\n",
    "\n",
    "You can use the function below on the given examples to test your implementation. Note that the third example cell generates random graphs, so you can test on new instances over and over."
   ]
  },
  {
   "cell_type": "code",
   "execution_count": 235,
   "metadata": {},
   "outputs": [],
   "source": [
    "def test_eulerian_tour(G, edge_list):\n",
    "    '''Tests if a given list of edges is an eulerian tour in a given graph.\n",
    "    \n",
    "    Args:\n",
    "        G: A networkx multidigraph.\n",
    "        edge_list: A list of edges in the format (u, v, k).\n",
    "        \n",
    "    Returns:\n",
    "        True if edge_list is an Eulerian tour in G and False otherwise.\n",
    "    '''\n",
    "    \n",
    "    assert nx.is_eulerian(G), \"Graph is not Eulerian.\"\n",
    "    \n",
    "    used = {e: False for e in G.edges}\n",
    "    \n",
    "    for i in range(len(edge_list)):\n",
    "        prev = edge_list[i - 1]\n",
    "        edge = edge_list[i]\n",
    "        \n",
    "        if prev[1] != edge[0]:\n",
    "            # Continuing from a different vertex\n",
    "            return False\n",
    "\n",
    "        if used[edge]:\n",
    "            # Traversing edge for the second time\n",
    "            return False\n",
    "        used[edge] = True\n",
    "        \n",
    "    return False not in used.values()"
   ]
  },
  {
   "cell_type": "code",
   "execution_count": 236,
   "metadata": {},
   "outputs": [
    {
     "name": "stdout",
     "output_type": "stream",
     "text": [
      "Tour: [(1, 3, 0), (3, 7, 0), (7, 4, 0), (4, 6, 0), (6, 5, 0), (5, 7, 0), (7, 2, 0), (2, 3, 0), (3, 5, 0), (5, 4, 0), (4, 2, 0), (2, 1, 0)]\n",
      "The computed tour is an Eulerian tour.\n"
     ]
    }
   ],
   "source": [
    "# Instance 1\n",
    "G1 = nx.MultiDiGraph()\n",
    "\n",
    "G1.add_edges_from([\n",
    "    (1, 3),\n",
    "    (2, 1),\n",
    "    (2, 3),\n",
    "    (3, 5),\n",
    "    (3, 7),\n",
    "    (4, 2),\n",
    "    (4, 6),\n",
    "    (5, 4),\n",
    "    (5, 7),\n",
    "    (6, 5),\n",
    "    (7, 2),\n",
    "    (7, 4)\n",
    "])\n",
    "\n",
    "tour1 = eulerian_tour(G1)\n",
    "print(f\"Tour: {tour1}\")\n",
    "print(f\"The computed tour {'is' if test_eulerian_tour(G1, tour1) else 'is not'} an Eulerian tour.\")"
   ]
  },
  {
   "cell_type": "code",
   "execution_count": 237,
   "metadata": {},
   "outputs": [
    {
     "name": "stdout",
     "output_type": "stream",
     "text": [
      "Tour: [(1, 4, 1), (4, 2, 0), (2, 3, 0), (3, 6, 0), (6, 5, 0), (5, 2, 0), (2, 3, 1), (3, 6, 1), (6, 7, 0), (7, 8, 0), (8, 9, 0), (9, 1, 0), (1, 4, 0), (4, 9, 0), (9, 1, 1)]\n",
      "The computed tour is an Eulerian tour.\n"
     ]
    }
   ],
   "source": [
    "# Instance 2\n",
    "# (from Figure 3.4 in the script)\n",
    "G2 = nx.MultiDiGraph()\n",
    "\n",
    "G2.add_edges_from([\n",
    "    (1, 4),\n",
    "    (1, 4),\n",
    "    (2, 3),\n",
    "    (2, 3),\n",
    "    (3, 6),\n",
    "    (3, 6),\n",
    "    (4, 2),\n",
    "    (4, 9),\n",
    "    (5, 2),\n",
    "    (6, 5),\n",
    "    (6, 7),\n",
    "    (7, 8),\n",
    "    (8, 9),\n",
    "    (9, 1),\n",
    "    (9, 1),\n",
    "])\n",
    "\n",
    "tour2 = eulerian_tour(G2)\n",
    "print(f\"Tour: {tour2}\")\n",
    "print(f\"The computed tour {'is' if test_eulerian_tour(G2, tour2) else 'is not'} an Eulerian tour.\")"
   ]
  },
  {
   "cell_type": "code",
   "execution_count": 241,
   "metadata": {},
   "outputs": [
    {
     "name": "stdout",
     "output_type": "stream",
     "text": [
      "The computed tour is an Eulerian tour.\n"
     ]
    }
   ],
   "source": [
    "# Random instances\n",
    "import random\n",
    "\n",
    "def random_eulerian_graph(m):\n",
    "    '''Generates a random Eulerian multidigraph on n = 10 sqrt(m) vertices and m edges.\n",
    "    \n",
    "    Args:\n",
    "        m: Number of edges that the output graph should contain.\n",
    "        \n",
    "    Returns:\n",
    "        Random Eulerian multidigraph on n = 10 sqrt(m) vertices and m edges.\n",
    "    '''\n",
    "    G = nx.MultiDiGraph()\n",
    "    n = int(10*m**0.5)\n",
    "    \n",
    "    v = 0\n",
    "    for i in range(m - 1):\n",
    "        u = random.randint(0, n)\n",
    "        G.add_edge(v, u)\n",
    "        v = u\n",
    "    G.add_edge(v, 0)\n",
    "    \n",
    "    return G\n",
    "\n",
    "# Change the size f you like!\n",
    "m = 10000\n",
    "G_rand = random_eulerian_graph(m)\n",
    "tour_rand = eulerian_tour(G_rand)\n",
    "print(f\"The computed tour {'is' if test_eulerian_tour(G_rand, tour_rand) else 'is not'} an Eulerian tour.\")"
   ]
  },
  {
   "cell_type": "code",
   "execution_count": null,
   "outputs": [],
   "source": [],
   "metadata": {
    "collapsed": false,
    "pycharm": {
     "name": "#%%\n"
    }
   }
  },
  {
   "cell_type": "code",
   "execution_count": 244,
   "outputs": [
    {
     "name": "stdout",
     "output_type": "stream",
     "text": [
      "Tour: [(1, 4, 1), (4, 2, 0), (2, 3, 0), (3, 6, 0), (6, 5, 0), (5, 2, 0), (2, 3, 1), (3, 6, 1), (6, 7, 0), (7, 8, 0), (8, 9, 0), (9, 1, 0), (1, 1, 0), (1, 1, 1), (1, 1, 2), (1, 4, 0), (4, 9, 0), (9, 1, 1)]\n",
      "The computed tour is an Eulerian tour.\n"
     ]
    }
   ],
   "source": [
    "# May own instance with loops, derived from Instance 2\n",
    "\n",
    "G2 = nx.MultiDiGraph()\n",
    "\n",
    "G2.add_edges_from([\n",
    "    (1, 1),\n",
    "    (1, 1),\n",
    "    (1, 4),\n",
    "    (1, 4),\n",
    "    (1, 1),\n",
    "    (2, 3),\n",
    "    (2, 3),\n",
    "    (3, 6),\n",
    "    (3, 6),\n",
    "    (4, 2),\n",
    "    (4, 9),\n",
    "    (5, 2),\n",
    "    (6, 5),\n",
    "    (6, 7),\n",
    "    (7, 8),\n",
    "    (8, 9),\n",
    "    (9, 1),\n",
    "    (9, 1),\n",
    "])\n",
    "\n",
    "tour2 = eulerian_tour(G2)\n",
    "print(f\"Tour: {tour2}\")\n",
    "print(f\"The computed tour {'is' if test_eulerian_tour(G2, tour2) else 'is not'} an Eulerian tour.\")"
   ],
   "metadata": {
    "collapsed": false,
    "pycharm": {
     "name": "#%%\n"
    }
   }
  },
  {
   "cell_type": "markdown",
   "metadata": {},
   "source": [
    "---\n",
    "\n",
    "## Running time measurements and comparison to the `networkx` implementation \n",
    "\n",
    "In the cell below, we provide a framework for measuring CPU time needed for execution of your algorithm on graphs of different size, and for comparing it to the running time of the corresponding `networkx` method.\n",
    "\n",
    "- We generate random graphs of different sizes and run the algorithms on them. To avoid outliers, we generate `num_reps` many graphs of the same size and report the median running time only.\n",
    "- The `multiprocessing` library is used to exploit the available computing power of your machine (i.e., use all available cores). Check the documentation of the library if you're interested in more details; it is a very useful tool for such computations.\n",
    "- Depending on your hardware, you might be able to run smaller or larger instances in reasonable time. Try playing around with the `max_size` parameter (or directly with the `m_vals`, which ist the list of graph sizes that are considered for the measurements).\n",
    "- The `compare_performance` method below is implemented such that the performance of two algorithms can be compared. If you came up with different implementations, you can also thest them against each other! By default, the first algorithm specified is compared to the `networkx` implementation.\n",
    "\n",
    "Have fun playing with the parameters and your implementations! You should be well able to beat the implementation by networkx."
   ]
  },
  {
   "cell_type": "code",
   "execution_count": 231,
   "metadata": {},
   "outputs": [],
   "source": [
    "import multiprocessing as mp\n",
    "import statistics\n",
    "import time\n",
    "import matplotlib.pyplot as plt\n",
    "\n",
    "# testing parameters\n",
    "num_reps = 15\n",
    "max_size = 250000\n",
    "m_vals = range(100, max_size+101, max_size//10)\n",
    "\n",
    "\n",
    "def single_graph_timer(function1, function2, m):\n",
    "    '''Times the execution of function1 and function2 on a random eulerian graph with m edges.\n",
    "    \n",
    "    Args:\n",
    "        function1: First function to time.\n",
    "        function2: Second function to time.\n",
    "        m: Number of edges of the graph that the functions should be timed on.\n",
    "        \n",
    "    Returns:\n",
    "        CPU times (in seconds) needed for calls to function1 and function2 (on the same graph on m edges).\n",
    "    '''\n",
    "    # generate graph\n",
    "    graph = random_eulerian_graph(m)\n",
    "    \n",
    "    # Measure performance\n",
    "    start1 = time.process_time()\n",
    "    tour1 = function1(graph)\n",
    "    end1 = time.process_time()\n",
    "    start2 = time.process_time()\n",
    "    tour2 = function2(graph)\n",
    "    end2 = time.process_time()\n",
    "\n",
    "    # Teturn time taken for function call.\n",
    "    return (end1 - start1, end2 - start2)\n",
    "\n",
    "\n",
    "\n",
    "def networkx_eulerian_circuit(G):\n",
    "    # Note: It is important that we transform the result to a list here.\n",
    "    # nx.eulerian_circuit only returns an iterator that is evaluated in a lazy way!\n",
    "    return list(nx.eulerian_circuit(G))\n",
    "\n",
    "\n",
    "\n",
    "def compare_performance(function1, function1_name, function2=networkx_eulerian_circuit, function2_name='networkx_eulerian_circuit'):\n",
    "    \n",
    "    fun1_medians = []\n",
    "    fun2_medians = []\n",
    "    \n",
    "    with mp.Pool() as pool:\n",
    "        for m in m_vals:   \n",
    "            print(f\"Computing tours in graphs with {m} edges.\")\n",
    "            times = pool.starmap(single_graph_timer, [(function1, function2, m)] * num_reps)\n",
    "            fun1_medians.append(statistics.median([t[0] for t in times]))\n",
    "            fun2_medians.append(statistics.median([t[1] for t in times]))\n",
    "            \n",
    "    # Plot results\n",
    "    plt.title('Performance of algorithms for computing an Eulerian tour')\n",
    "    plt.xlabel('number of edges')\n",
    "    plt.ylabel('elapsed time in seconds')\n",
    "    plt.scatter(m_vals, fun1_medians, label=function1_name)\n",
    "    plt.scatter(m_vals, fun2_medians, label=function2_name)\n",
    "    plt.plot()\n",
    "    plt.legend()\n",
    "    plt.show()"
   ]
  },
  {
   "cell_type": "code",
   "execution_count": 232,
   "metadata": {},
   "outputs": [
    {
     "name": "stdout",
     "output_type": "stream",
     "text": [
      "Computing tours in graphs with 100 edges.\n",
      "Computing tours in graphs with 25100 edges.\n",
      "Computing tours in graphs with 50100 edges.\n",
      "Computing tours in graphs with 75100 edges.\n",
      "Computing tours in graphs with 100100 edges.\n",
      "Computing tours in graphs with 125100 edges.\n",
      "Computing tours in graphs with 150100 edges.\n",
      "Computing tours in graphs with 175100 edges.\n",
      "Computing tours in graphs with 200100 edges.\n",
      "Computing tours in graphs with 225100 edges.\n",
      "Computing tours in graphs with 250100 edges.\n"
     ]
    },
    {
     "data": {
      "text/plain": "<Figure size 432x288 with 1 Axes>",
      "image/png": "[encoded data removed]"
     },
     "metadata": {
      "needs_background": "light"
     },
     "output_type": "display_data"
    }
   ],
   "source": [
    "compare_performance(eulerian_tour, 'eulerian_tour')"
   ]
  },
  {
   "cell_type": "code",
   "execution_count": null,
   "outputs": [],
   "source": [],
   "metadata": {
    "collapsed": false,
    "pycharm": {
     "name": "#%%\n"
    }
   }
  }
 ],
 "metadata": {
  "kernelspec": {
   "display_name": "Python 3",
   "language": "python",
   "name": "python3"
  },
  "language_info": {
   "codemirror_mode": {
    "name": "ipython",
    "version": 3
   },
   "file_extension": ".py",
   "mimetype": "text/x-python",
   "name": "python",
   "nbconvert_exporter": "python",
   "pygments_lexer": "ipython3",
   "version": "3.7.3"
  }
 },
 "nbformat": 4,
 "nbformat_minor": 4
}