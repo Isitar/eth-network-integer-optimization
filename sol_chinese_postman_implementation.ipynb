{
 "cells": [
  {
   "cell_type": "markdown",
   "metadata": {},
   "source": [
    "# Directed Chinese Postman Problem\n",
    "\n",
    "<b>Goal:</b> Implement an algorithm to solve the directed Chinese postman problem and apply it to two examples."
   ]
  },
  {
   "cell_type": "markdown",
   "metadata": {},
   "source": [
    "## (a) Implementation\n",
    "\n",
    "The algorithm is loosely described in Section 3.3.3 of the lecture notes."
   ]
  },
  {
   "cell_type": "code",
   "execution_count": 6,
   "metadata": {},
   "outputs": [],
   "source": [
    "import matplotlib.pyplot as plt\n",
    "import networkx as nx\n",
    "\n",
    "%matplotlib inline"
   ]
  },
  {
   "cell_type": "code",
   "execution_count": 7,
   "metadata": {},
   "outputs": [],
   "source": [
    "def chinese_postman_tour(G, U):\n",
    "    '''Computes a Chinese postman tour in a directed graph.\n",
    "    \n",
    "    Args:\n",
    "        G: A strongly connected weighted netwrokx digraph.\n",
    "        U: A weakly connected set of arcs of G.\n",
    "        \n",
    "    Returns:\n",
    "        A list of arcs in a Chinese postman tour in G that contains every arc\n",
    "        of U at least once.\n",
    "    '''\n",
    "    # Construct graph induced by U\n",
    "    G_U = nx.MultiDiGraph()\n",
    "    G_U.add_edges_from(U)\n",
    "    \n",
    "    # Define alpha\n",
    "    alpha = {node: G_U.in_degree(node) - G_U.out_degree(node) for node in G_U}\n",
    "    \n",
    "    # Define auxiliary bipartite graph\n",
    "    H = nx.Graph()\n",
    "    V_1 = [node for node in G_U if alpha[node] > 0]\n",
    "    V_2 = [node for node in G_U if alpha[node] < 0]    \n",
    "    for v1 in V_1:\n",
    "        for v2 in V_2:\n",
    "            dist = nx.shortest_path_length(G, v1, v2, 'weight')\n",
    "            H.add_weighted_edges_from((f'{v1}.{i}', f'{v2}.{j}', dist) for i in range(alpha[v1]) for j in range(-alpha[v2]))\n",
    "    \n",
    "    # Find min weight perfect matching\n",
    "    M = nx.bipartite.minimum_weight_full_matching(H)\n",
    "    \n",
    "    # Create backreferences for vertices in H\n",
    "    orig_node = {}\n",
    "    orig_node.update({f'{v1}.{i}': v1 for v1 in V_1 for i in range(alpha[v1])})\n",
    "    orig_node.update({f'{v2}.{i}': v2 for v2 in V_2 for i in range(-alpha[v2])})\n",
    "    \n",
    "    # Add shortest paths given by matchings to graph induced by U\n",
    "    for v1 in V_1:\n",
    "        for i in range(alpha[v1]):\n",
    "            path = nx.shortest_path(G, v1, orig_node[M[f'{v1}.{i}']], 'weight')\n",
    "            path_edges = zip(path, path[1:])\n",
    "            G_U.add_edges_from(path_edges)\n",
    "    \n",
    "    return list(nx.eulerian_circuit(G_U))"
   ]
  },
  {
   "cell_type": "code",
   "execution_count": 8,
   "metadata": {},
   "outputs": [
    {
     "name": "stdout",
     "output_type": "stream",
     "text": [
      "Tour: [(2, 3), (3, 6), (6, 5), (5, 2), (2, 3), (3, 6), (6, 7), (7, 8), (8, 9), (9, 1), (1, 4), (4, 9), (9, 1), (1, 4), (4, 2)]\n",
      "Total tour weight: 27\n"
     ]
    }
   ],
   "source": [
    "# Test on example from script\n",
    "G = nx.DiGraph()\n",
    "G.add_weighted_edges_from([\n",
    "    (1, 2, 3),\n",
    "    (1, 4, 1),\n",
    "    (2, 3, 1),\n",
    "    (3, 6, 2),\n",
    "    (4, 2, 1),\n",
    "    (4, 9, 2),\n",
    "    (5, 2, 2),\n",
    "    (5, 4, 1),\n",
    "    (6, 5, 3),\n",
    "    (6, 7, 5),\n",
    "    (7, 8, 2),\n",
    "    (8, 6, 1),\n",
    "    (8, 9, 2),\n",
    "    (9, 1, 1)\n",
    "])\n",
    "U = [(2, 3), (3, 6), (4, 2), (4, 9), (5, 2), (6, 5), (6, 7), (7, 8)]\n",
    "tour = chinese_postman_tour(G, U)\n",
    "print(f\"Tour: {tour}\")\n",
    "print(f\"Total tour weight: {sum(G.edges[e]['weight'] for e in tour)}\")"
   ]
  },
  {
   "cell_type": "markdown",
   "metadata": {},
   "source": [
    "---"
   ]
  },
  {
   "cell_type": "markdown",
   "metadata": {},
   "source": [
    "## (b) Skiing in Zermatt"
   ]
  },
  {
   "cell_type": "code",
   "execution_count": 9,
   "metadata": {},
   "outputs": [
    {
     "name": "stdout",
     "output_type": "stream",
     "text": [
      "Tour from Zermatt:\n",
      "[('Zermatt', 'Riffelalp'), ('Riffelalp', 'Furi'), ('Furi', 'Steg'), ('Steg', 'Klein Matterhorn'), ('Klein Matterhorn', 'Furggsattel'), ('Furggsattel', 'Steg'), ('Steg', 'Furggsattel'), ('Furggsattel', 'Fun Park'), ('Fun Park', 'Steg'), ('Steg', 'Furgg'), ('Furgg', 'Steg'), ('Steg', 'Furggsattel'), ('Furggsattel', 'Schwartzsee'), ('Schwartzsee', 'Winkelmatten'), ('Winkelmatten', 'Schwartzsee'), ('Schwartzsee', 'Furgg'), ('Furgg', 'Furi'), ('Furi', 'Winkelmatten'), ('Winkelmatten', 'Zermatt')]\n",
      "Total duration: 266min\n"
     ]
    }
   ],
   "source": [
    "# Define the graph\n",
    "Zermatt = nx.DiGraph()\n",
    "Zermatt.add_weighted_edges_from([\n",
    "    ('Zermatt', 'Riffelalp', 19),\n",
    "    ('Zermatt', 'Winkelmatten', 10),\n",
    "    ('Riffelalp', 'Zermatt', 19),\n",
    "    ('Riffelalp', 'Furi', 12),\n",
    "    ('Winkelmatten', 'Zermatt', 10),\n",
    "    ('Winkelmatten', 'Furi', 12),\n",
    "    ('Winkelmatten', 'Schwartzsee', 15),\n",
    "    ('Furi', 'Steg', 20),\n",
    "    ('Furi', 'Winkelmatten', 10),\n",
    "    ('Furgg', 'Furi', 5),\n",
    "    ('Furgg', 'Steg', 11),\n",
    "    ('Furgg', 'Fun Park', 12),\n",
    "    ('Schwartzsee', 'Furgg', 5),\n",
    "    ('Schwartzsee', 'Winkelmatten', 24),\n",
    "    ('Steg', 'Klein Matterhorn', 20),\n",
    "    ('Steg', 'Furggsattel', 18),\n",
    "    ('Steg', 'Furgg', 7),\n",
    "    ('Fun Park', 'Steg', 10),\n",
    "    ('Klein Matterhorn', 'Furggsattel', 22),\n",
    "    ('Furggsattel', 'Steg', 15),\n",
    "    ('Furggsattel', 'Fun Park', 9),\n",
    "    ('Furggsattel', 'Schwartzsee', 16)\n",
    "])\n",
    "ski_runs = [\n",
    "    ('Riffelalp', 'Furi'),\n",
    "    ('Winkelmatten', 'Zermatt'),\n",
    "    ('Furi', 'Winkelmatten'),\n",
    "    ('Furgg', 'Furi'),\n",
    "    ('Schwartzsee', 'Furgg'),\n",
    "    ('Schwartzsee', 'Winkelmatten'),\n",
    "    ('Steg', 'Furgg'),\n",
    "    ('Fun Park', 'Steg'),\n",
    "    ('Klein Matterhorn', 'Furggsattel'),\n",
    "    ('Furggsattel', 'Steg'),\n",
    "    ('Furggsattel', 'Fun Park'),\n",
    "    ('Furggsattel', 'Schwartzsee')\n",
    "]\n",
    "\n",
    "# Find the tour\n",
    "tour = chinese_postman_tour(Zermatt, ski_runs)\n",
    "\n",
    "# Sort such that it starts at Zermatt\n",
    "idx = [i for i, v in enumerate(tour) if v[0] == 'Zermatt'][0]\n",
    "sorted_tour = tour[idx:] + tour[0:idx]\n",
    "\n",
    "# Print results\n",
    "print(f\"Tour from Zermatt:\\n{sorted_tour}\")\n",
    "print(f\"Total duration: {sum(Zermatt.edges[e]['weight'] for e in tour)}min\")"
   ]
  },
  {
   "cell_type": "markdown",
   "metadata": {},
   "source": [
    "---"
   ]
  },
  {
   "cell_type": "markdown",
   "metadata": {},
   "source": [
    "## (c) Software testing"
   ]
  },
  {
   "cell_type": "code",
   "execution_count": 10,
   "metadata": {},
   "outputs": [
    {
     "name": "stdout",
     "output_type": "stream",
     "text": [
      "Shortest testing sequence: [(0, 2), (2, 8), (8, 7), (7, 0), (0, 8), (8, 7), (7, 0), (0, 6), (6, 1), (1, 5), (5, 3), (3, 6), (6, 7), (7, 0), (0, 5), (5, 4), (4, 0), (0, 1)]\n",
      "Length: 18\n"
     ]
    }
   ],
   "source": [
    "# Define the graph\n",
    "software = nx.DiGraph()\n",
    "software.add_weighted_edges_from([\n",
    "    (0, 1, 1),\n",
    "    (0, 2, 1),\n",
    "    (0, 5, 1),\n",
    "    (0, 6, 1),\n",
    "    (0, 8, 1),\n",
    "    (1, 5, 1),\n",
    "    (2, 8, 1),\n",
    "    (3, 6, 1),\n",
    "    (4, 0, 1),\n",
    "    (5, 3, 1),\n",
    "    (5, 4, 1),\n",
    "    (6, 1, 1),\n",
    "    (6, 7, 1),\n",
    "    (7, 0, 1),\n",
    "    (8, 7, 1)\n",
    "])\n",
    "\n",
    "# variables holding the best tour so far\n",
    "min_walk = None\n",
    "min_walk_len = None\n",
    "\n",
    "# large weight for extra edge\n",
    "large_weight = len(software.edges)+1\n",
    "\n",
    "# Note that adding edges to the software graph might create parallel edges.\n",
    "# We could use a multigraph, but we can also replace the extra edge by a path\n",
    "# of length two via an auxiliary vertex.\n",
    "aux_vertex = 'auxiliary vertex'\n",
    "software.add_node(aux_vertex)\n",
    "\n",
    "# find best walk\n",
    "for end_node in range(9):\n",
    "    # add extra edges (see comment above)\n",
    "    software.add_edge(end_node, aux_vertex, weight=large_weight)\n",
    "    software.add_edge(aux_vertex, 0, weight=large_weight)\n",
    "    \n",
    "    # compute tour and walk\n",
    "    tour = chinese_postman_tour(software, list(software.edges))\n",
    "    idx = [i for i, e in enumerate(tour) if e[0] == end_node and e[1] == aux_vertex][0]\n",
    "    walk = tour[idx+2:] + tour[0:idx]\n",
    "    walk_len = sum(software.edges[e]['weight'] for e in walk)\n",
    "    \n",
    "    # replace shortest walk found so far if new one is better\n",
    "    if min_walk_len is None or walk_len < min_walk_len:\n",
    "        min_walk = walk\n",
    "        min_walk_len = walk_len\n",
    "    \n",
    "    # reset graph for next iteration\n",
    "    software.remove_edges_from([(end_node, aux_vertex), (aux_vertex, 0)])\n",
    "\n",
    "print(f\"Shortest testing sequence: {min_walk}\")\n",
    "print(f\"Length: {min_walk_len}\")"
   ]
  },
  {
   "cell_type": "code",
   "execution_count": 10,
   "metadata": {},
   "outputs": [],
   "source": []
  }
 ],
 "metadata": {
  "kernelspec": {
   "display_name": "Python 3",
   "language": "python",
   "name": "python3"
  },
  "language_info": {
   "codemirror_mode": {
    "name": "ipython",
    "version": 3
   },
   "file_extension": ".py",
   "mimetype": "text/x-python",
   "name": "python",
   "nbconvert_exporter": "python",
   "pygments_lexer": "ipython3",
   "version": "3.7.3"
  }
 },
 "nbformat": 4,
 "nbformat_minor": 4
}