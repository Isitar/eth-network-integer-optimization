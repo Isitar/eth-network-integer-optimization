{
 "cells": [
  {
   "cell_type": "markdown",
   "metadata": {},
   "source": [
    "# Exercise: Implementing a Sudoku solver and testing for uniqueness\n",
    "\n",
    "<b>Goal:</b> In this exercise, we implement a Sudoku solver using an integer program and Python-MIP. As an extra result, we will also see how such a solver can be used to test uniqueness of a solution to a given Sudoku puzzle.\n",
    "\n",
    "---"
   ]
  },
  {
   "cell_type": "markdown",
   "metadata": {},
   "source": [
    "## Solving a Sudoku puzzle: Modeling with integer variables\n",
    "\n",
    "As you most likely all know, a Sudoku is puzzle where the goal is to fill in the cells of a 9x9 grid with integers from $1$ to $9$ such that\n",
    "- there is precisely one number per cell,\n",
    "- no row contains two equal numbers,\n",
    "- no column contains two equal numbers, and\n",
    "- no one of the nine 3x3 squares that the grid can be partitioned in contains two equal numbers.\n",
    "\n",
    "An example of a Sudoku puzzle is given below.\n",
    "\n",
    "<div style=\"background-color:white\">\n",
    "<center>\n",
    "    <img src=\"sudoku_solver_example.png\", style=\"padding-top: 10px;\">\n",
    "</center>\n",
    "</div>"
   ]
  },
  {
   "cell_type": "markdown",
   "metadata": {},
   "source": [
    "To solve such a Sudoku puzzle, we have to decide which numbers to assign to which cell. These decisions can be easily modelled by integral decision variables $x_{ijk}$ for $i,j,k\\in\\{1,\\ldots,9\\}$ such that\n",
    "\n",
    "$$\n",
    "x_{ijk} = \\begin{cases} 1 & \\text{if cell $(i,j)$ of the Sudoku contains number $k$}\\\\ 0 & \\text{else} \\end{cases}\\enspace. \n",
    "$$\n",
    "\n",
    "The question is how to set up suitable constraints that guarantee that a feasible $\\{0,1\\}$-point $x$ does indeed correspond to a solution of the Sudoku.\n"
   ]
  },
  {
   "cell_type": "markdown",
   "metadata": {},
   "source": [
    "<b>Your first task:</b> Come up with linear constraints in the variables $x_{ijk}$ that model the conditions imposed on a valid Sudoku solution, i.e., make sure that any $\\{0,1\\}$-solution of your system corresponds to a feasible solution of a given Sudoku."
   ]
  },
  {
   "cell_type": "markdown",
   "metadata": {},
   "source": [
    "$$\n",
    "\\sum_{i\\in{1,...,9}}^{}{x_{ijk}} = 1 \\quad\\forall k, k \\\\\n",
    "\\sum_{j\\in{1,...,9}}^{}{x_{ijk}} = 1 \\quad\\forall i, k\\\\\n",
    "\\sum_{k\\in{1,...,9}}^{}{x_{ijk}} = 1 \\quad\\forall i, j \\\\\n",
    "\\sum_{i \\in \\{ i \\in \\{1,...,9\\} | i < 3f \\wedge i > 3(f-1) \\}}^{}{\\sum_{j \\in \\{ j \\in \\{1,...,9\\} | j <= 3g \\wedge j > 3(g-1)\\}}}{x_{ijk}} = 1 \\quad \\forall k,\\forall f \\in \\{1,2,3\\} , \\forall g \\in \\{1,2,3\\}\n",
    "$$"
   ]
  },
  {
   "cell_type": "markdown",
   "metadata": {},
   "source": [
    "---\n",
    "\n",
    "## Implementing integer programs in Python-MIP\n",
    "\n",
    "Implementing integer programs in Python-MIP is almost the same as implementing linear programs - except that you'll have to declare that you want to put integrality conditions on your variables. Check out the simple IP below."
   ]
  },
  {
   "cell_type": "code",
   "execution_count": 491,
   "metadata": {},
   "outputs": [
    {
     "data": {
      "text/plain": "<OptimizationStatus.OPTIMAL: 0>"
     },
     "execution_count": 491,
     "metadata": {},
     "output_type": "execute_result"
    }
   ],
   "source": [
    "import mip\n",
    "\n",
    "simpleProblem = mip.Model(name=\"Simple IP example\", sense=mip.MINIMIZE)\n",
    "\n",
    "x = simpleProblem.add_var(name=\"x\", var_type=mip.INTEGER)\n",
    "\n",
    "simpleProblem.objective = x\n",
    "\n",
    "simpleProblem += x >= 4.5\n",
    "\n",
    "simpleProblem.optimize()"
   ]
  },
  {
   "cell_type": "code",
   "execution_count": 492,
   "metadata": {},
   "outputs": [
    {
     "name": "stdout",
     "output_type": "stream",
     "text": [
      "5\n"
     ]
    }
   ],
   "source": [
    "print(x.x)"
   ]
  },
  {
   "cell_type": "markdown",
   "metadata": {},
   "source": [
    "As you can see, the `add_var` takes an additional (optional) argument `var_type`, which we can set to `INTEGER`, `BINARY` or `CONTINUOUS` (the latter one being the default). Thus, for the Sudoku problem above, you might want to use binary variables."
   ]
  },
  {
   "cell_type": "markdown",
   "metadata": {},
   "source": [
    "<b>Your second task:</b> Implement the constraints that you came up with in the first task in an integer program, and use it to find a solution to an input Sudoku problem. Observe that this is a pure feasibility problem, so you can use an IP with a constant objective.\n",
    "\n",
    "To this end, you can assume that the Sudoku is given to you as a list of $81$ values, each representing a cell of the Sudoku read row by row from left to right; where a $0$ indicates an empty cell. An example is given below. Note that there also is a function to display a Sudoku that is given in the above form.\n",
    "\n",
    "Make sure that your function returns the Sudoku in the same format as the input."
   ]
  },
  {
   "cell_type": "code",
   "execution_count": 493,
   "metadata": {},
   "outputs": [
    {
     "name": "stdout",
     "output_type": "stream",
     "text": [
      "╔═══╤═══╤═══╦═══╤═══╤═══╦═══╤═══╤═══╗\n",
      "║ 4 │   │ 7 ║   │   │   ║   │   │   ║\n",
      "╟───┼───┼───╫───┼───┼───╫───┼───┼───╢\n",
      "║   │ 3 │ 5 ║   │ 9 │ 7 ║ 4 │   │   ║\n",
      "╟───┼───┼───╫───┼───┼───╫───┼───┼───╢\n",
      "║   │ 9 │   ║   │   │   ║   │   │ 6 ║\n",
      "╠═══╪═══╪═══╬═══╪═══╪═══╬═══╪═══╪═══╣\n",
      "║   │   │   ║ 3 │   │ 2 ║   │   │   ║\n",
      "╟───┼───┼───╫───┼───┼───╫───┼───┼───╢\n",
      "║ 6 │   │   ║   │ 8 │   ║   │   │   ║\n",
      "╟───┼───┼───╫───┼───┼───╫───┼───┼───╢\n",
      "║   │   │   ║   │   │   ║ 5 │   │   ║\n",
      "╠═══╪═══╪═══╬═══╪═══╪═══╬═══╪═══╪═══╣\n",
      "║   │   │   ║ 4 │   │   ║   │ 1 │ 8 ║\n",
      "╟───┼───┼───╫───┼───┼───╫───┼───┼───╢\n",
      "║   │   │ 3 ║   │ 2 │ 8 ║   │   │ 4 ║\n",
      "╟───┼───┼───╫───┼───┼───╫───┼───┼───╢\n",
      "║ 5 │   │ 4 ║   │   │   ║   │ 9 │ 7 ║\n",
      "╚═══╧═══╧═══╩═══╧═══╧═══╩═══╧═══╧═══╝\n",
      "\n"
     ]
    }
   ],
   "source": [
    "# Example Sudoku input and Sudoku printing\n",
    "\n",
    "sudoku1 = [4, 0, 7, 0, 0, 0, 0, 0, 0, \n",
    "           0, 3, 5, 0, 9, 7, 4, 0, 0, \n",
    "           0, 9, 0, 0, 0, 0, 0, 0, 6, \n",
    "           0, 0, 0, 3, 0, 2, 0, 0, 0, \n",
    "           6, 0, 0, 0, 8, 0, 0, 0, 0, \n",
    "           0, 0, 0, 0, 0, 0, 5, 0, 0, \n",
    "           0, 0, 0, 4, 0, 0, 0, 1, 8, \n",
    "           0, 0, 3, 0, 2, 8, 0, 0, 4, \n",
    "           5, 0, 4, 0, 0, 0, 0, 9, 7]\n",
    "\n",
    "def printSudoku(sudoku):\n",
    "    # compact Sudoku printing function\n",
    "    # taken from https://codegolf.stackexchange.com/questions/126930/\n",
    "    #    draw-a-sudoku-board-using-line-drawing-characters\n",
    "    q = lambda x,y:x+y+x+y+x\n",
    "    r = lambda a,b,c,d,e:a+q(q(b*3,c),d)+e+\"\\n\"\n",
    "    print(((r(*\"╔═╤╦╗\") + q(q(\"║ %d │ %d │ %d \"*3 + \"║\\n\",r(*\"╟─┼╫╢\")), r(*\"╠═╪╬╣\")) +\n",
    "            r(*\"╚═╧╩╝\")) % tuple(sudoku)).replace(*\"0 \"))\n",
    "\n",
    "printSudoku(sudoku1)"
   ]
  },
  {
   "cell_type": "code",
   "execution_count": 501,
   "metadata": {},
   "outputs": [],
   "source": [
    "# Implementation of a Sudoku solver\n",
    "import math\n",
    "\n",
    "def sudokuSolver(inputSudoku, nonSols = []):\n",
    "\n",
    "    # to solve any sudoku, even bigger / smaller ones\n",
    "    n = int(math.sqrt(len(inputSudoku)))\n",
    "    sudokumodel = mip.Model(name=\"sudoku\")\n",
    "\n",
    "    x_vars = []\n",
    "\n",
    "    for i in range(n):\n",
    "        x_vars.append([])\n",
    "        for j in range(n):\n",
    "            x_vars[i].append([])\n",
    "            for k in range(n):\n",
    "                x_vars[i][j].append([])\n",
    "                x_vars[i][j][k] = sudokumodel.add_var(name=f\"x_{i}_{j}_{k}\", var_type=mip.BINARY)\n",
    "\n",
    "    for i in range(n):\n",
    "        for j in range(n):\n",
    "            sudokumodel += mip.xsum(x_vars[i][j][k] for k in range(n)) == 1\n",
    "    for i in range(n):\n",
    "        for k in range(n):\n",
    "            sudokumodel += mip.xsum(x_vars[i][j][k] for j in range(n)) == 1\n",
    "    for j in range(n):\n",
    "        for k in range(n):\n",
    "            sudokumodel += mip.xsum(x_vars[i][j][k] for i in range(n)) == 1\n",
    "\n",
    "\n",
    "    squaresPerRow = int(math.sqrt(n))\n",
    "    for k in range(n):\n",
    "        for f in range(squaresPerRow):\n",
    "            for g in range(squaresPerRow):\n",
    "                sudokumodel+= mip.xsum(x_vars[i][j][k]\n",
    "                                       for i in range(n) if (i < (f + 1) * squaresPerRow and i >= f * squaresPerRow)\n",
    "                                       for j in range(n) if (j < (g + 1) * squaresPerRow and j >= g * squaresPerRow)) == 1\n",
    "\n",
    "    # input sudoku\n",
    "    for i in range(n):\n",
    "        for j in range(n):\n",
    "            inputVal = inputSudoku[j + (i * n)]\n",
    "            if (inputVal > 0):\n",
    "                sudokumodel += x_vars[i][j][inputVal - 1] >= 1\n",
    "\n",
    "    # nonsols\n",
    "    for nonSol in nonSols:\n",
    "        # print([f\"{nonSol[j + (i*n)] - 1} in {i} {j}\" for i in range(n) for j in range(n)])\n",
    "        sudokumodel += mip.xsum(x_vars[i][j][nonSol[j + (i*n)] - 1] for i in range(n) for j in range(n)) <= n**2 - 1\n",
    "\n",
    "    sudokumodel.objective = 0\n",
    "    result = sudokumodel.optimize()\n",
    "    if (result == mip.OptimizationStatus.INFEASIBLE):\n",
    "        return []\n",
    "\n",
    "    outputSudoku = []\n",
    "    for i in range(n):\n",
    "        for j in range(n):\n",
    "            for k in range(n):\n",
    "                if (x_vars[i][j][k].x == 1):\n",
    "                    outputSudoku.append(k + 1)\n",
    "\n",
    "    return outputSudoku"
   ]
  },
  {
   "cell_type": "markdown",
   "metadata": {},
   "source": [
    "---\n",
    "\n",
    "## Checking for uniqueness of the Sudoku solutions\n",
    "\n",
    "Sudokus are generally agreed to only be \"real\" Sudokus if they have a unique Solution.\n",
    "\n",
    "<b>Your third task:</b> Implement a function that checks whether a Sudoko has no solution, a unique solution, or more than one solution! You can reuse the code that you generated for the Sudoku solver above. The function should return a tuple `(n, sol)`, where $n\\in\\{0, 1, 2\\}$ depending on whether the Sudoku has zero, one, or at least two solutions, respectively, and `sol` is a list of zero, one, or two solutions of the Sudoku.\n",
    "\n",
    "If you want a hint, run the following code cell. Do not run it if you want to think about the problem yourself! :)"
   ]
  },
  {
   "cell_type": "code",
   "execution_count": 502,
   "metadata": {},
   "outputs": [
    {
     "name": "stdout",
     "output_type": "stream",
     "text": [
      "Hint: Observe that solving a Sudoku did not use the objective function of the IP. Once you found one solution, can you exploit the fact that you can choose the objective to see if you can find another solution?\n"
     ]
    }
   ],
   "source": [
    "## Running this cell will display a hint!\n",
    "\n",
    "encoded = [79, 98, 115, 101, 114, 118, 101, 32, 116, 104, 97, 116, 32, 115, 111, 108, 118, 105, 110, 103, 32, 97, 32, 83, 117, 100, 111, 107, 117, 32, 100, 105, 100, 32, 110, 111, 116, 32, 117, 115, 101, 32, 116, 104, 101, 32, 111, 98, 106, 101, 99, 116, 105, 118, 101, 32, 102, 117, 110, 99, 116, 105, 111, 110, 32, 111, 102, 32, 116, 104, 101, 32, 73, 80, 46, 32, 79, 110, 99, 101, 32, 121, 111, 117, 32, 102, 111, 117, 110, 100, 32, 111, 110, 101, 32, 115, 111, 108, 117, 116, 105, 111, 110, 44, 32, 99, 97, 110, 32, 121, 111, 117, 32, 101, 120, 112, 108, 111, 105, 116, 32, 116, 104, 101, 32, 102, 97, 99, 116, 32, 116, 104, 97, 116, 32, 121, 111, 117, 32, 99, 97, 110, 32, 99, 104, 111, 111, 115, 101, 32, 116, 104, 101, 32, 111, 98, 106, 101, 99, 116, 105, 118, 101, 32, 116, 111, 32, 115, 101, 101, 32, 105, 102, 32, 121, 111, 117, 32, 99, 97, 110, 32, 102, 105, 110, 100, 32, 97, 110, 111, 116, 104, 101, 114, 32, 115, 111, 108, 117, 116, 105, 111, 110, 63]\n",
    "print('Hint: ' + ''.join([chr(x) for x in encoded]))"
   ]
  },
  {
   "cell_type": "code",
   "execution_count": 503,
   "metadata": {},
   "outputs": [],
   "source": [
    "# we can exploit the objective function but an easier solution (in my opinion) is simply to add a constraint to prevent the optained solution\n",
    "\n",
    "def numberOfSolutions(inputSudoku):\n",
    "    sols = []\n",
    "    n = 0\n",
    "    while True:\n",
    "        sol = sudokuSolver(inputSudoku, sols)\n",
    "        if (len(sol) == 0):\n",
    "            break\n",
    "        n += 1\n",
    "        sols.append(sol)\n",
    "\n",
    "    return (n, sols)"
   ]
  },
  {
   "cell_type": "markdown",
   "metadata": {},
   "source": [
    "---\n",
    "\n",
    "## Testing your code\n",
    "\n",
    "Among the following three Sudokus, there is one from each category that your function `numberOfSolutions()` should be able to distinguish: One has no solution, one has a unique Solution, and one has two Solutions. Test your implementation on these Sudokus!"
   ]
  },
  {
   "cell_type": "code",
   "execution_count": 504,
   "metadata": {},
   "outputs": [
    {
     "name": "stdout",
     "output_type": "stream",
     "text": [
      "╔═══╤═══╤═══╦═══╤═══╤═══╦═══╤═══╤═══╗\n",
      "║ 2 │   │   ║   │   │   ║   │ 4 │   ║\n",
      "╟───┼───┼───╫───┼───┼───╫───┼───┼───╢\n",
      "║ 1 │   │   ║   │   │   ║   │   │ 7 ║\n",
      "╟───┼───┼───╫───┼───┼───╫───┼───┼───╢\n",
      "║ 8 │   │ 6 ║ 3 │   │   ║   │   │   ║\n",
      "╠═══╪═══╪═══╬═══╪═══╪═══╬═══╪═══╪═══╣\n",
      "║   │ 5 │   ║   │   │ 7 ║ 3 │   │ 1 ║\n",
      "╟───┼───┼───╫───┼───┼───╫───┼───┼───╢\n",
      "║   │   │ 3 ║   │ 1 │   ║   │   │   ║\n",
      "╟───┼───┼───╫───┼───┼───╫───┼───┼───╢\n",
      "║   │   │ 2 ║   │   │ 3 ║ 7 │ 5 │ 4 ║\n",
      "╠═══╪═══╪═══╬═══╪═══╪═══╬═══╪═══╪═══╣\n",
      "║   │   │ 7 ║   │   │ 5 ║   │   │   ║\n",
      "╟───┼───┼───╫───┼───┼───╫───┼───┼───╢\n",
      "║ 5 │   │   ║   │ 4 │   ║   │   │   ║\n",
      "╟───┼───┼───╫───┼───┼───╫───┼───┼───╢\n",
      "║   │   │   ║ 1 │ 7 │   ║   │   │ 8 ║\n",
      "╚═══╧═══╧═══╩═══╧═══╧═══╩═══╧═══╧═══╝\n",
      "\n"
     ]
    }
   ],
   "source": [
    "sudoku2 = [2, 0, 0, 0, 0, 0, 0, 4, 0, \n",
    "           1, 0, 0, 0, 0, 0, 0, 0, 7,\n",
    "           8, 0, 6, 3, 0, 0, 0, 0, 0,\n",
    "           0, 5, 0, 0, 0, 7, 3, 0, 1, \n",
    "           0, 0, 3, 0, 1, 0, 0, 0, 0, \n",
    "           0, 0, 2, 0, 0, 3, 7, 5, 4, \n",
    "           0, 0, 7, 0, 0, 5, 0, 0, 0, \n",
    "           5, 0, 0, 0, 4, 0, 0, 0, 0, \n",
    "           0, 0, 0, 1, 7, 0, 0, 0, 8]\n",
    "printSudoku(sudoku2)"
   ]
  },
  {
   "cell_type": "code",
   "execution_count": 505,
   "metadata": {},
   "outputs": [
    {
     "name": "stdout",
     "output_type": "stream",
     "text": [
      "╔═══╤═══╤═══╦═══╤═══╤═══╦═══╤═══╤═══╗\n",
      "║   │   │   ║ 6 │   │ 7 ║   │   │   ║\n",
      "╟───┼───┼───╫───┼───┼───╫───┼───┼───╢\n",
      "║   │   │   ║   │   │   ║   │ 9 │ 8 ║\n",
      "╟───┼───┼───╫───┼───┼───╫───┼───┼───╢\n",
      "║ 3 │   │   ║   │   │   ║   │   │   ║\n",
      "╠═══╪═══╪═══╬═══╪═══╪═══╬═══╪═══╪═══╣\n",
      "║   │   │   ║   │ 2 │   ║ 6 │   │   ║\n",
      "╟───┼───┼───╫───┼───┼───╫───┼───┼───╢\n",
      "║   │   │   ║   │   │   ║ 7 │   │   ║\n",
      "╟───┼───┼───╫───┼───┼───╫───┼───┼───╢\n",
      "║   │ 4 │   ║   │ 8 │   ║   │   │   ║\n",
      "╠═══╪═══╪═══╬═══╪═══╪═══╬═══╪═══╪═══╣\n",
      "║ 1 │   │   ║   │   │   ║   │ 2 │ 3 ║\n",
      "╟───┼───┼───╫───┼───┼───╫───┼───┼───╢\n",
      "║   │   │ 8 ║ 9 │   │   ║   │   │   ║\n",
      "╟───┼───┼───╫───┼───┼───╫───┼───┼───╢\n",
      "║   │   │   ║ 4 │   │   ║ 1 │   │   ║\n",
      "╚═══╧═══╧═══╩═══╧═══╧═══╩═══╧═══╧═══╝\n",
      "\n"
     ]
    }
   ],
   "source": [
    "sudoku3 = [0, 0, 0, 6, 0, 7, 0, 0, 0, \n",
    "           0, 0, 0, 0, 0, 0, 0, 9, 8,\n",
    "           3, 0, 0, 0, 0, 0, 0, 0, 0,\n",
    "           0, 0, 0, 0, 2, 0, 6, 0, 0, \n",
    "           0, 0, 0, 0, 0, 0, 7, 0, 0, \n",
    "           0, 4, 0, 0, 8, 0, 0, 0, 0, \n",
    "           1, 0, 0, 0, 0, 0, 0, 2, 3, \n",
    "           0, 0, 8, 9, 0, 0, 0, 0, 0, \n",
    "           0, 0, 0, 4, 0, 0, 1, 0, 0]\n",
    "printSudoku(sudoku3)"
   ]
  },
  {
   "cell_type": "code",
   "execution_count": 506,
   "metadata": {},
   "outputs": [
    {
     "name": "stdout",
     "output_type": "stream",
     "text": [
      "╔═══╤═══╤═══╦═══╤═══╤═══╦═══╤═══╤═══╗\n",
      "║   │ 6 │   ║   │   │   ║   │ 7 │ 4 ║\n",
      "╟───┼───┼───╫───┼───┼───╫───┼───┼───╢\n",
      "║ 1 │   │   ║ 6 │   │ 7 ║   │   │ 3 ║\n",
      "╟───┼───┼───╫───┼───┼───╫───┼───┼───╢\n",
      "║ 7 │   │   ║   │   │   ║   │   │   ║\n",
      "╠═══╪═══╪═══╬═══╪═══╪═══╬═══╪═══╪═══╣\n",
      "║   │   │   ║   │ 1 │   ║   │   │ 2 ║\n",
      "╟───┼───┼───╫───┼───┼───╫───┼───┼───╢\n",
      "║   │   │ 1 ║ 5 │   │   ║ 9 │   │   ║\n",
      "╟───┼───┼───╫───┼───┼───╫───┼───┼───╢\n",
      "║ 9 │   │   ║ 8 │   │   ║   │ 1 │   ║\n",
      "╠═══╪═══╪═══╬═══╪═══╪═══╬═══╪═══╪═══╣\n",
      "║   │   │   ║   │   │   ║   │ 3 │   ║\n",
      "╟───┼───┼───╫───┼───┼───╫───┼───┼───╢\n",
      "║ 3 │   │   ║   │   │ 2 ║ 8 │ 5 │   ║\n",
      "╟───┼───┼───╫───┼───┼───╫───┼───┼───╢\n",
      "║   │   │ 9 ║   │   │ 4 ║   │   │   ║\n",
      "╚═══╧═══╧═══╩═══╧═══╧═══╩═══╧═══╧═══╝\n",
      "\n"
     ]
    }
   ],
   "source": [
    "sudoku4 = [0, 6, 0, 0, 0, 0, 0, 7, 4,\n",
    "           1, 0, 0, 6, 0, 7, 0, 0, 3, \n",
    "           7, 0, 0, 0, 0, 0, 0, 0, 0, \n",
    "           0, 0, 0, 0, 1, 0, 0, 0, 2, \n",
    "           0, 0, 1, 5, 0, 0, 9, 0, 0, \n",
    "           9, 0, 0, 8, 0, 0, 0, 1, 0, \n",
    "           0, 0, 0, 0, 0, 0, 0, 3, 0, \n",
    "           3, 0, 0, 0, 0, 2, 8, 5, 0, \n",
    "           0, 0, 9, 0, 0, 4, 0, 0, 0]\n",
    "printSudoku(sudoku4)"
   ]
  },
  {
   "cell_type": "code",
   "execution_count": null,
   "metadata": {
    "pycharm": {
     "is_executing": true
    }
   },
   "outputs": [
    {
     "name": "stdout",
     "output_type": "stream",
     "text": [
      "found 0 solutions\n",
      "found 1 solutions\n",
      "╔═══╤═══╤═══╦═══╤═══╤═══╦═══╤═══╤═══╗\n",
      "║ 4 │ 8 │ 2 ║ 6 │ 9 │ 7 ║ 3 │ 1 │ 5 ║\n",
      "╟───┼───┼───╫───┼───┼───╫───┼───┼───╢\n",
      "║ 7 │ 6 │ 1 ║ 2 │ 5 │ 3 ║ 4 │ 9 │ 8 ║\n",
      "╟───┼───┼───╫───┼───┼───╫───┼───┼───╢\n",
      "║ 3 │ 5 │ 9 ║ 8 │ 4 │ 1 ║ 2 │ 7 │ 6 ║\n",
      "╠═══╪═══╪═══╬═══╪═══╪═══╬═══╪═══╪═══╣\n",
      "║ 8 │ 7 │ 3 ║ 1 │ 2 │ 9 ║ 6 │ 5 │ 4 ║\n",
      "╟───┼───┼───╫───┼───┼───╫───┼───┼───╢\n",
      "║ 9 │ 1 │ 5 ║ 3 │ 6 │ 4 ║ 7 │ 8 │ 2 ║\n",
      "╟───┼───┼───╫───┼───┼───╫───┼───┼───╢\n",
      "║ 2 │ 4 │ 6 ║ 7 │ 8 │ 5 ║ 9 │ 3 │ 1 ║\n",
      "╠═══╪═══╪═══╬═══╪═══╪═══╬═══╪═══╪═══╣\n",
      "║ 1 │ 9 │ 4 ║ 5 │ 7 │ 6 ║ 8 │ 2 │ 3 ║\n",
      "╟───┼───┼───╫───┼───┼───╫───┼───┼───╢\n",
      "║ 6 │ 3 │ 8 ║ 9 │ 1 │ 2 ║ 5 │ 4 │ 7 ║\n",
      "╟───┼───┼───╫───┼───┼───╫───┼───┼───╢\n",
      "║ 5 │ 2 │ 7 ║ 4 │ 3 │ 8 ║ 1 │ 6 │ 9 ║\n",
      "╚═══╧═══╧═══╩═══╧═══╧═══╩═══╧═══╧═══╝\n",
      "\n"
     ]
    }
   ],
   "source": [
    "# Test your functions here!\n",
    "\n",
    "def solveSudoku(sudoku):\n",
    "    sudokuSol = numberOfSolutions(sudoku)\n",
    "    print(f\"found {sudokuSol[0]} solutions\")\n",
    "    for i in range(sudokuSol[0]):\n",
    "        printSudoku(sudokuSol[1][i])\n",
    "solveSudoku(sudoku2)\n",
    "solveSudoku(sudoku3)\n",
    "solveSudoku(sudoku4)\n",
    "# printSudoku(sudokuSolver(sudoku2))"
   ]
  },
  {
   "cell_type": "code",
   "execution_count": null,
   "outputs": [],
   "source": [],
   "metadata": {
    "collapsed": false,
    "pycharm": {
     "name": "#%%\n",
     "is_executing": true
    }
   }
  },
  {
   "cell_type": "code",
   "execution_count": 500,
   "outputs": [],
   "source": [],
   "metadata": {
    "collapsed": false,
    "pycharm": {
     "name": "#%%\n"
    }
   }
  },
  {
   "cell_type": "code",
   "execution_count": 500,
   "outputs": [],
   "source": [],
   "metadata": {
    "collapsed": false,
    "pycharm": {
     "name": "#%%\n"
    }
   }
  },
  {
   "cell_type": "code",
   "execution_count": 500,
   "outputs": [],
   "source": [],
   "metadata": {
    "collapsed": false,
    "pycharm": {
     "name": "#%%\n"
    }
   }
  }
 ],
 "metadata": {
  "kernelspec": {
   "display_name": "Python 3",
   "language": "python",
   "name": "python3"
  },
  "language_info": {
   "codemirror_mode": {
    "name": "ipython",
    "version": 3
   },
   "file_extension": ".py",
   "mimetype": "text/x-python",
   "name": "python",
   "nbconvert_exporter": "python",
   "pygments_lexer": "ipython3",
   "version": "3.7.3"
  }
 },
 "nbformat": 4,
 "nbformat_minor": 4
}