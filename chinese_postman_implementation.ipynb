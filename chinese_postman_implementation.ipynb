{
 "cells": [
  {
   "cell_type": "markdown",
   "metadata": {},
   "source": [
    "# Directed Chinese Postman Problem\n",
    "\n",
    "<b>Goal:</b> Implement an algorithm to solve the directed Chinese postman problem and apply it to two examples."
   ]
  },
  {
   "cell_type": "markdown",
   "metadata": {},
   "source": [
    "## (a) Implementation\n",
    "\n",
    "Implement an algorithm to solve the directed Chinese postman problem."
   ]
  },
  {
   "cell_type": "code",
   "execution_count": 3,
   "metadata": {},
   "outputs": [],
   "source": [
    "import matplotlib.pyplot as plt\n",
    "import networkx as nx\n",
    "\n",
    "%matplotlib inline"
   ]
  },
  {
   "cell_type": "code",
   "execution_count": 45,
   "outputs": [],
   "source": [
    "from networkx.algorithms import bipartite\n",
    "def print_bipartite_graph(G):\n",
    "    X, Y = bipartite.sets(G)\n",
    "    pos = dict()\n",
    "    pos.update( (n, (1, i)) for i, n in enumerate(X) ) # put nodes from X at x=1\n",
    "    pos.update( (n, (2, i)) for i, n in enumerate(Y) ) # put nodes from Y at x=2\n",
    "    nx.draw(G, pos=pos, with_labels = True)\n",
    "    plt.show()"
   ],
   "metadata": {
    "collapsed": false,
    "pycharm": {
     "name": "#%%\n"
    }
   }
  },
  {
   "cell_type": "code",
   "execution_count": 77,
   "metadata": {},
   "outputs": [],
   "source": [
    "def chinese_postman_tour(G, U):\n",
    "    '''Computes a Chinese postman tour in a directed graph.\n",
    "    \n",
    "    Args:\n",
    "        G: A strongly connected weighted netwrokx digraph.\n",
    "        U: A weakly connected set of arcs of G.\n",
    "        \n",
    "    Returns:\n",
    "        A list of arcs in a Chinese postman tour in G that contains every arc\n",
    "        of U at least once.\n",
    "    '''\n",
    "    # assign numbers to nodes\n",
    "    balance = {}\n",
    "\n",
    "    for a in U:\n",
    "        start = a[0]\n",
    "        end = a[1]\n",
    "        if (start not in balance):\n",
    "            balance[start] = 0\n",
    "        if (end not in balance):\n",
    "            balance[end] = 0\n",
    "\n",
    "        balance[start] -= 1\n",
    "        balance[end] += 1\n",
    "\n",
    "    # remove 0-balanced edges\n",
    "    balance = {b: balance[b] for b in balance if balance[b] != 0}\n",
    "\n",
    "    shortestPathGraph = nx.DiGraph()\n",
    "    from_nodes = []\n",
    "    for start in [b for b in balance if balance[b] > 0]:\n",
    "        for i in range(balance[start]):\n",
    "            shortestPathGraph.add_node(f'{start}_{i}', bipartite=0)\n",
    "            from_nodes.append(f'{start}_{i}')\n",
    "            for end in [b for b in balance if balance[b] < 0]:\n",
    "                weight = nx.shortest_path_length(G, source=start, target=end, weight='weight')\n",
    "                for j in range(abs(balance[end])):\n",
    "                    shortestPathGraph.add_node(f'{end}_{j}', bipartite=1)\n",
    "                    shortestPathGraph.add_edge(f'{start}_{i}', f'{end}_{j}', weight=weight)\n",
    "\n",
    "\n",
    "    print_bipartite_graph(shortestPathGraph)\n",
    "    plt.show()\n",
    "\n",
    "    min_matching = nx.algorithms.bipartite.matching.minimum_weight_full_matching(shortestPathGraph, top_nodes=from_nodes)\n",
    "    for start in min_matching:\n",
    "        if (start not in from_nodes):\n",
    "            continue\n",
    "        s = int(start.split('_')[0])\n",
    "        end = int(min_matching[start].split('_')[0])\n",
    "        u = None\n",
    "        for p in nx.shortest_path(G, source=s, target=end, weight='weight'):\n",
    "            if u is None :\n",
    "                u = p\n",
    "                continue\n",
    "            v = p\n",
    "            U.append((u,v))\n",
    "            u = v\n",
    "    return U"
   ]
  },
  {
   "cell_type": "code",
   "execution_count": 78,
   "metadata": {},
   "outputs": [
    {
     "data": {
      "text/plain": "<Figure size 432x288 with 1 Axes>",
      "image/png": "[encoded data removed]"
     },
     "metadata": {},
     "output_type": "display_data"
    },
    {
     "name": "stdout",
     "output_type": "stream",
     "text": [
      "Tour: [(2, 3), (3, 6), (4, 2), (4, 9), (5, 2), (6, 5), (6, 7), (7, 8), (9, 1), (1, 4), (2, 3), (3, 6), (8, 9), (9, 1), (1, 4)]\n",
      "Total tour weight: 27\n"
     ]
    }
   ],
   "source": [
    "# Test on example from script\n",
    "G = nx.DiGraph()\n",
    "G.add_weighted_edges_from([\n",
    "    (1, 2, 3),\n",
    "    (1, 4, 1),\n",
    "    (2, 3, 1),\n",
    "    (3, 6, 2),\n",
    "    (4, 2, 1),\n",
    "    (4, 9, 2),\n",
    "    (5, 2, 2),\n",
    "    (5, 4, 1),\n",
    "    (6, 5, 3),\n",
    "    (6, 7, 5),\n",
    "    (7, 8, 2),\n",
    "    (8, 6, 1),\n",
    "    (8, 9, 2),\n",
    "    (9, 1, 1)\n",
    "])\n",
    "U = [(2, 3), (3, 6), (4, 2), (4, 9), (5, 2), (6, 5), (6, 7), (7, 8)]\n",
    "tour = chinese_postman_tour(G, U)\n",
    "print(f'Tour: {tour}')\n",
    "total_weight = sum(G.edges[e]['weight'] for e in tour)\n",
    "print(f'Total tour weight: {total_weight}')"
   ]
  },
  {
   "cell_type": "markdown",
   "metadata": {},
   "source": [
    "---"
   ]
  },
  {
   "cell_type": "markdown",
   "metadata": {},
   "source": [
    "## (b) Skiing in Zermatt\n",
    "\n",
    "Create a weighted digraph that corresponds to the map of the skiing resort in Zermatt and find the shortest possible round trip that traverses all ski runs."
   ]
  },
  {
   "cell_type": "code",
   "execution_count": null,
   "metadata": {},
   "outputs": [],
   "source": [
    "# Write your implementation here"
   ]
  },
  {
   "cell_type": "markdown",
   "metadata": {},
   "source": [
    "---"
   ]
  },
  {
   "cell_type": "markdown",
   "metadata": {},
   "source": [
    "## (c) Software testing\n",
    "\n",
    "Create a weighted digraph that corresponds to software states and transitions between them and find the shortest possible sequence of transitions for testing."
   ]
  },
  {
   "cell_type": "code",
   "execution_count": null,
   "metadata": {},
   "outputs": [],
   "source": [
    "# Write your implementation here"
   ]
  }
 ],
 "metadata": {
  "kernelspec": {
   "display_name": "Python 3",
   "language": "python",
   "name": "python3"
  },
  "language_info": {
   "codemirror_mode": {
    "name": "ipython",
    "version": 3
   },
   "file_extension": ".py",
   "mimetype": "text/x-python",
   "name": "python",
   "nbconvert_exporter": "python",
   "pygments_lexer": "ipython3",
   "version": "3.7.3"
  }
 },
 "nbformat": 4,
 "nbformat_minor": 4
}